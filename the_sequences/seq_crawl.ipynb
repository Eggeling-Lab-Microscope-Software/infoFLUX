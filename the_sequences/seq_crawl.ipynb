{
 "cells": [
  {
   "cell_type": "markdown",
   "metadata": {},
   "source": [
    "# In the following, we will crawl sequence files by abberior to steer the MINFLUX microscope and extract whatever parameter there is.\n",
    "We will use them to create a dictionairy with the following structure:\n",
    "```python\n",
    "{\n",
    "    'parameter':{\n",
    "        'explanation': 'explanation of the parameter',\n",
    "        'effect': 'effect of the parameter on the image/track',\n",
    "        'possilbe_values': 'possible values of the parameter',\n",
    "        'validity':{\n",
    "            'expl_validity': 0/1/2,     # 0: unknown, 1: valid_by_company, 2: valid_by_us\n",
    "            'effect_validity': 0/1/2,   # 0: unknown, 1: valid_by_company, 2: valid_by_us\n",
    "        }\n",
    "    }\n",
    "}\n",
    "```"
   ]
  },
  {
   "cell_type": "code",
   "execution_count": 6,
   "metadata": {},
   "outputs": [],
   "source": [
    "## Import area\n",
    "import os, sys\n",
    "import json\n",
    "sys.path.insert(0, '../')\n",
    "\n",
    "from pyDialogue import askFILE"
   ]
  },
  {
   "cell_type": "code",
   "execution_count": 4,
   "metadata": {},
   "outputs": [],
   "source": [
    "seq_2D = askFILE()\n",
    "seq_3D = askFILE()"
   ]
  },
  {
   "cell_type": "code",
   "execution_count": 7,
   "metadata": {},
   "outputs": [],
   "source": [
    "## load data\n",
    "with open(seq_2D, 'r') as f:\n",
    "    data_2D = json.load(f)\n",
    "\n",
    "with open(seq_3D, 'r') as f:\n",
    "    data_3D = json.load(f)"
   ]
  },
  {
   "cell_type": "code",
   "execution_count": 40,
   "metadata": {},
   "outputs": [
    {
     "data": {
      "text/plain": [
       "['prbt', 'mflx', 'mflx', 'mflx']"
      ]
     },
     "execution_count": 40,
     "metadata": {},
     "output_type": "execute_result"
    }
   ],
   "source": [
    "key = 'id'\n",
    "[item[key] for item in [outer['Mode'] for outer in data_2D['Itr']]]"
   ]
  },
  {
   "cell_type": "code",
   "execution_count": 50,
   "metadata": {},
   "outputs": [
    {
     "name": "stdout",
     "output_type": "stream",
     "text": [
      "external keys:  ['Itr', 'bgcSense', 'ctrDwellFactor', 'damping', 'defaultField', 'field', 'headstart', 'id', 'liveview', 'locLimit', 'maxOffTime', 'stickiness']\n",
      "internal keys:  ['Mode', '_lemd', '_lemn', 'bgcThreshold', 'ccrLimit', 'estCoeff', 'estCoeffA', 'estCoeffL', 'field', 'fldFactor', 'patDwellTime', 'patGeoFactor', 'patRepeat', 'phtLimit', 'pwrFactor', 'wavelength']\n",
      "innermost keys:  ['dim', 'dmod', 'dpsf', 'emod', 'epsf', 'id', 'modulated', 'pattern', 'phDiaAU', 'strategy']\n",
      "external values:  {'bgcSense': False,\n",
      " 'ctrDwellFactor': 0.16,\n",
      " 'damping': 2,\n",
      " 'defaultField': {'DR': 1.0, 'algo': 'hexgrid', 'radius': 4e-07, 'stride': 1},\n",
      " 'field': {'algo': 'hexgrid', 'fldGeoFactor': 0.5, 'stride': 1},\n",
      " 'headstart': -1,\n",
      " 'id': 'Tracking_2D',\n",
      " 'liveview': {'show': ['loc']},\n",
      " 'locLimit': -1,\n",
      " 'maxOffTime': 'unspecified',\n",
      " 'stickiness': 4}\n",
      "internal values:  {'_lemd': [5.7551840880162596e-08,\n",
      "           7.150817078736677e-08,\n",
      "           2.0758580201875813e-08,\n",
      "           1.3464518593463269e-08],\n",
      " '_lemn': [6.973999307003672e-08,\n",
      "           8.133997920207832e-08,\n",
      "           2.4943683707002774e-08,\n",
      "           1.5991656634100992e-08],\n",
      " 'bgcThreshold': [15000.0, 30000.0, 30000.0, 50000.0],\n",
      " 'ccrLimit': [-1.0, -1.0, 0.8, -1.0],\n",
      " 'estCoeff': [[[[2.9981537562242293, 0.0, 0.0],\n",
      "                [0.5896923702612078, 0.0, 0.0],\n",
      "                [0.28095960173679657, 0.0, 0.0]],\n",
      "               [[0.0, 0.0, 0.0], [0.0, 0.0, 0.0], [0.0, 0.0, 0.0]]],\n",
      "              [[[-2.785678710305831, 0.0, 0.0],\n",
      "                [3.551281009243712, 0.0, 0.0],\n",
      "                [-0.9173829795270372, 0.0, 0.0]],\n",
      "               [[0.0, 0.0, 0.0], [0.0, 0.0, 0.0], [0.0, 0.0, 0.0]]],\n",
      "              [[[-1.139010821696214, 0.0, 0.0],\n",
      "                [-3.0265129438021177, 0.0, 0.0],\n",
      "                [5.0274886677312836, 0.0, 0.0]],\n",
      "               [[0.0, 0.0, 0.0], [0.0, 0.0, 0.0], [0.0, 0.0, 0.0]]],\n",
      "              [[[-0.8623568028323454, 0.0, 0.0],\n",
      "                [-4.2388804624406085, 0.0, 0.0],\n",
      "                [6.5454966422136, 0.0, 0.0]],\n",
      "               [[0.0, 0.0, 0.0], [0.0, 0.0, 0.0], [0.0, 0.0, 0.0]]]],\n",
      " 'estCoeffA': ['unspecified', 'unspecified', 'unspecified', 'unspecified'],\n",
      " 'estCoeffL': ['unspecified', 'unspecified', 'unspecified', 'unspecified'],\n",
      " 'field': [[3.23e-07, 3.23e-07, 3.23e-07],\n",
      "           [8.33e-08, 8.33e-08, 8.33e-08],\n",
      "           [5.6950000000000004e-08,\n",
      "            5.6950000000000004e-08,\n",
      "            5.6950000000000004e-08],\n",
      "           [3.984581932868417e-08,\n",
      "            3.984581932868417e-08,\n",
      "            3.984581932868417e-08]],\n",
      " 'fldFactor': [[0.475, 0.475, 0.475],\n",
      "               [0.1297507788161994, 0.1297507788161994, 0.1297507788161994],\n",
      "               [0.0887071651090343, 0.0887071651090343, 0.0887071651090343],\n",
      "               [0.06222741433021808, 0.06222741433021808, 0.06222741433021808]],\n",
      " 'patDwellTime': [0.0001, 0.0001, 0.0001, 0.0001],\n",
      " 'patGeoFactor': [0.79, 0.84, 0.42, 0.28],\n",
      " 'patRepeat': [1, 1, 1, 1],\n",
      " 'phtLimit': [40, 20, 20, 20],\n",
      " 'pwrFactor': [1.0, 1.0, 2.0, 3.0],\n",
      " 'wavelength': [6.8e-07, 6.42e-07, 6.42e-07, 6.42e-07]}\n",
      "innermost values:  {'dim': [2, 2, 2, 2],\n",
      " 'dmod': ['both', 'axial', 'axial', 'axial'],\n",
      " 'dpsf': ['focFldPlane.pickled',\n",
      "          'focFldPlane.pickled',\n",
      "          'focFldPlane.pickled',\n",
      "          'focFldPlane.pickled'],\n",
      " 'emod': ['axial', 'both', 'both', 'both'],\n",
      " 'epsf': ['focFldVortex.pickled',\n",
      "          'focFldVortex.pickled',\n",
      "          'focFldVortex.pickled',\n",
      "          'focFldVortex.pickled'],\n",
      " 'id': ['prbt', 'mflx', 'mflx', 'mflx'],\n",
      " 'modulated': ['phl', 'exc', 'exc', 'exc'],\n",
      " 'pattern': ['hexagon', 'hexagon', 'hexagon', 'hexagon'],\n",
      " 'phDiaAU': [1.5, 1.5, 1.5, 1.5],\n",
      " 'strategy': ['BL', 'BL', 'BL', 'BL']}\n"
     ]
    }
   ],
   "source": [
    "# let's look at the keys\n",
    "external_keys = set(list(data_2D.keys()))\n",
    "internal_keys = []\n",
    "\n",
    "for item in data_2D['Itr']:\n",
    "    internal_keys.append(list(item.keys()))\n",
    "    \n",
    "from itertools import chain\n",
    "external_keys = sorted(external_keys)\n",
    "internal_keys = sorted(set(list(chain.from_iterable(internal_keys))))\n",
    "innermost_keys = sorted(set(list(chain.from_iterable([list(item['Mode'].keys()) for item in data_2D['Itr']]))))\n",
    "\n",
    "external_values = {key:data_2D[key] for key in external_keys if key != 'Itr'}\n",
    "internal_values = {key:[item[key] for item in data_2D['Itr']] for key in internal_keys if key != 'Mode'}\n",
    "innermost_values = {key:[item[key] for item in [outer['Mode'] for outer in data_2D['Itr']]] for key in innermost_keys}\n",
    "\n",
    "print('external keys: ', external_keys)\n",
    "print('internal keys: ', internal_keys)\n",
    "print('innermost keys: ', innermost_keys)\n",
    "## print values\n",
    "from pprint import pformat\n",
    "print('external values: ', pformat(external_values))\n",
    "print('internal values: ', pformat(internal_values))\n",
    "print('innermost values: ', pformat(innermost_values))"
   ]
  }
 ],
 "metadata": {
  "kernelspec": {
   "display_name": "Python 3",
   "language": "python",
   "name": "python3"
  },
  "language_info": {
   "codemirror_mode": {
    "name": "ipython",
    "version": 3
   },
   "file_extension": ".py",
   "mimetype": "text/x-python",
   "name": "python",
   "nbconvert_exporter": "python",
   "pygments_lexer": "ipython3",
   "version": "3.9.13"
  }
 },
 "nbformat": 4,
 "nbformat_minor": 2
}
