{
 "cells": [
  {
   "cell_type": "markdown",
   "metadata": {},
   "source": [
    "# In the following, we will crawl sequence files by abberior to steer the MINFLUX microscope and extract whatever parameter there is.\n",
    "We will use them to create a dictionairy with the following structure:\n",
    "```python\n",
    "{\n",
    "    'parameter':{\n",
    "        'explanation': 'explanation of the parameter',\n",
    "        'effect': 'effect of the parameter on the image/track',\n",
    "        'possilbe_values': 'possible values of the parameter',\n",
    "        'validity':{\n",
    "            'expl_validity': 0/1/2,     # 0: unknown, 1: valid_by_company, 2: valid_by_us\n",
    "            'effect_validity': 0/1/2,   # 0: unknown, 1: valid_by_company, 2: valid_by_us\n",
    "        }\n",
    "    }\n",
    "}\n",
    "```"
   ]
  },
  {
   "cell_type": "code",
   "execution_count": 1,
   "metadata": {},
   "outputs": [],
   "source": [
    "## Import area\n",
    "import os, sys\n",
    "sys.path.insert(0, '../')\n",
    "\n",
    "from pyDialogue import askFILE"
   ]
  },
  {
   "cell_type": "code",
   "execution_count": null,
   "metadata": {},
   "outputs": [],
   "source": []
  }
 ],
 "metadata": {
  "kernelspec": {
   "display_name": "Python 3",
   "language": "python",
   "name": "python3"
  },
  "language_info": {
   "codemirror_mode": {
    "name": "ipython",
    "version": 3
   },
   "file_extension": ".py",
   "mimetype": "text/x-python",
   "name": "python",
   "nbconvert_exporter": "python",
   "pygments_lexer": "ipython3",
   "version": "3.9.0"
  }
 },
 "nbformat": 4,
 "nbformat_minor": 2
}
