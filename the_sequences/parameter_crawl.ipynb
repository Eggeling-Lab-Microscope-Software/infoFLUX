{
 "cells": [
  {
   "cell_type": "markdown",
   "metadata": {},
   "source": [
    "# In the following, we will crawl sequence files by abberior to steer the MINFLUX microscope and extract whatever parameter there is.\n",
    "We will use them to create a dictionairy with the following structure:\n",
    "```python\n",
    "{\n",
    "    'parameter':{\n",
    "        'explanation': 'explanation of the parameter',\n",
    "        'effect': 'effect of the parameter on the image/track',\n",
    "        'possilbe_values': 'possible values of the parameter',\n",
    "        'validity':{\n",
    "            'expl_validity': 0/1/2,     # 0: unknown, 1: valid_by_company, 2: valid_by_us\n",
    "            'effect_validity': 0/1/2,   # 0: unknown, 1: valid_by_company, 2: valid_by_us\n",
    "        }\n",
    "    }\n",
    "}\n",
    "```"
   ]
  },
  {
   "cell_type": "code",
   "execution_count": 1,
   "metadata": {},
   "outputs": [],
   "source": [
    "## Import area\n",
    "import os, sys\n",
    "import json\n",
    "sys.path.insert(0, '../')\n",
    "\n",
    "from pyDialogue import askFILE"
   ]
  },
  {
   "cell_type": "code",
   "execution_count": 2,
   "metadata": {},
   "outputs": [],
   "source": [
    "data_2D = askFILE()\n",
    "#data_3D = askFILE() # not currently available"
   ]
  },
  {
   "cell_type": "code",
   "execution_count": 3,
   "metadata": {},
   "outputs": [],
   "source": [
    "## load data\n",
    "with open(data_2D, 'r') as f:\n",
    "    data_2D = json.load(f)\n",
    "\n",
    "# with open(seq_3D, 'r') as f:\n",
    "#     data_3D = json.load(f)"
   ]
  },
  {
   "cell_type": "code",
   "execution_count": 8,
   "metadata": {},
   "outputs": [],
   "source": [
    "## As the data is dumped during each iteration consistently, we need to only look at one iteration to get all keys\n",
    "\n",
    "data_2D = data_2D[0]"
   ]
  },
  {
   "cell_type": "code",
   "execution_count": 22,
   "metadata": {},
   "outputs": [
    {
     "name": "stdout",
     "output_type": "stream",
     "text": [
      "external keys:  ['act', 'dos', 'gri', 'itr', 'sky', 'sqi', 'tid', 'tim', 'vld']\n",
      "internal keys:  ['cfr', 'dcr', 'dmz', 'ecc', 'eco', 'efc', 'efo', 'eox', 'eoy', 'ext', 'fbg', 'gvx', 'gvy', 'itr', 'lcx', 'lcy', 'lcz', 'lnc', 'loc', 'sta', 'tic']\n",
      "external values:  {'act': True,\n",
      " 'dos': 254,\n",
      " 'gri': 2,\n",
      " 'sky': 4,\n",
      " 'sqi': 0,\n",
      " 'tid': 29,\n",
      " 'tim': 1.354675575,\n",
      " 'vld': True}\n",
      "internal values:  {'cfr': [-3.0517578125e-05,\n",
      "         0.260345458984375,\n",
      "         -3.0517578125e-05,\n",
      "         0.8148193359375],\n",
      " 'dcr': [0.4318181818181818, 0.25, 0.4482758620689655, 0.30434782608695654],\n",
      " 'dmz': [0.0, 0.0, 0.0, 0.0],\n",
      " 'ecc': [0, 1, 0, 3],\n",
      " 'eco': [44, 24, 29, 23],\n",
      " 'efc': [nan, 12500.000000000002, nan, 62500.0],\n",
      " 'efo': [29336.266960029334,\n",
      "         48048.048048048055,\n",
      "         72572.57257257258,\n",
      "         76743.41007674341],\n",
      " 'eox': [0.0, 0.0, -2.678122044435175e-08, -4.858391986858769e-08],\n",
      " 'eoy': [0.0, 0.0, 1.0820817279216599e-07, 5.35636635185561e-08],\n",
      " 'ext': [[2.844e-07, 2.844e-07, 2.844e-07],\n",
      "         [3.0239999999999995e-07,\n",
      "          3.0239999999999995e-07,\n",
      "          3.0239999999999995e-07],\n",
      "         [1.5119999999999998e-07,\n",
      "          1.5119999999999998e-07,\n",
      "          1.5119999999999998e-07],\n",
      "         [1.008e-07, 1.008e-07, 1.008e-07]],\n",
      " 'fbg': [131083108.31083108,\n",
      "         565444348.576359,\n",
      "         656006006.0060061,\n",
      "         565444348.576359],\n",
      " 'gvx': [3.5091161183475e-06,\n",
      "         3.6184300831912502e-06,\n",
      "         3.6184300831912502e-06,\n",
      "         3.6184300831912502e-06],\n",
      " 'gvy': [-1.2349969284111876e-06,\n",
      "         -1.2522698776299375e-06,\n",
      "         -1.2522698776299375e-06,\n",
      "         -1.2522698776299375e-06],\n",
      " 'itr': [0, 1, 2, 3],\n",
      " 'lcx': [1.0932319335937499e-07,\n",
      "         -2.6781152343749997e-08,\n",
      "         -2.1860046386718745e-08,\n",
      "         -2.0671875000000002e-09],\n",
      " 'lcy': [-1.7236889648437498e-08,\n",
      "         1.0825048828124999e-07,\n",
      "         -5.469279785156249e-08,\n",
      "         1.55146728515625e-08],\n",
      " 'lcz': [0.0, 0.0, 0.0, 0.0],\n",
      " 'lnc': [[3.618439311706875e-06, -1.252233818059625e-06, 0.0],\n",
      "         [3.5916489308475004e-06, -1.1440193893486876e-06, 0.0],\n",
      "         [3.5697888163601798e-06, -1.198754502689334e-06, 0.0],\n",
      "         [3.567778975822662e-06, -1.183191541259819e-06, 0.0]],\n",
      " 'loc': [[3.618439311706875e-06, -1.252233818059625e-06, 0.0],\n",
      "         [3.5916489308475004e-06, -1.1440193893486876e-06, 0.0],\n",
      "         [3.5697888163601798e-06, -1.198754502689334e-06, 0.0],\n",
      "         [3.567778975822662e-06, -1.183191541259819e-06, 0.0]],\n",
      " 'sta': [0, 0, 0, 0],\n",
      " 'tic': [53747933, 54097802, 54165613, 54187023]}\n"
     ]
    }
   ],
   "source": [
    "# let's look at the keys\n",
    "external_keys = set(list(data_2D.keys()))\n",
    "internal_keys = []\n",
    "\n",
    "for item in data_2D['itr']:\n",
    "    internal_keys.append(list(item.keys()))\n",
    "    \n",
    "from itertools import chain\n",
    "external_keys = sorted(external_keys)\n",
    "internal_keys = sorted(set(list(chain.from_iterable(internal_keys))))\n",
    "\n",
    "external_values = {key:data_2D[key] for key in external_keys if key != 'itr'}\n",
    "internal_values = {key:[item[key] for item in data_2D['itr']] for key in internal_keys if key != 'mode'}\n",
    "\n",
    "print('external keys: ', external_keys)\n",
    "print('internal keys: ', internal_keys)\n",
    "## print values\n",
    "from pprint import pformat\n",
    "print('external values: ', pformat(external_values))\n",
    "print('internal values: ', pformat(internal_values))"
   ]
  }
 ],
 "metadata": {
  "kernelspec": {
   "display_name": "Python 3",
   "language": "python",
   "name": "python3"
  },
  "language_info": {
   "codemirror_mode": {
    "name": "ipython",
    "version": 3
   },
   "file_extension": ".py",
   "mimetype": "text/x-python",
   "name": "python",
   "nbconvert_exporter": "python",
   "pygments_lexer": "ipython3",
   "version": "3.9.13"
  }
 },
 "nbformat": 4,
 "nbformat_minor": 2
}
